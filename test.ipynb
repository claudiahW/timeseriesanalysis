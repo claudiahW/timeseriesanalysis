{
 "cells": [
  {
   "cell_type": "code",
   "execution_count": 2,
   "metadata": {},
   "outputs": [
    {
     "name": "stdout",
     "output_type": "stream",
     "text": [
      "         Data Source World Development Indicators  \\\n",
      "0  Last Updated Date          2025-01-28 00:00:00   \n",
      "1       Country Name                 Country Code   \n",
      "2                NaN                          NaN   \n",
      "3              Kenya                          KEN   \n",
      "\n",
      "                              Unnamed: 2      Unnamed: 3   Unnamed: 4  \\\n",
      "0                                    NaN             NaN          NaN   \n",
      "1                         Indicator Name  Indicator Code  1960.000000   \n",
      "2                                    NaN             NaN          NaN   \n",
      "3  Inflation, consumer prices (annual %)  FP.CPI.TOTL.ZG     1.243781   \n",
      "\n",
      "    Unnamed: 5   Unnamed: 6   Unnamed: 7   Unnamed: 8   Unnamed: 9  ...  \\\n",
      "0          NaN          NaN          NaN          NaN          NaN  ...   \n",
      "1  1961.000000  1962.000000  1963.000000  1964.000000  1965.000000  ...   \n",
      "2          NaN          NaN          NaN          NaN          NaN  ...   \n",
      "3     2.457002     3.117506     0.697674    -0.099305     3.578529  ...   \n",
      "\n",
      "   Unnamed: 58  Unnamed: 59  Unnamed: 60  Unnamed: 61  Unnamed: 62  \\\n",
      "0          NaN          NaN          NaN          NaN          NaN   \n",
      "1  2014.000000  2015.000000   2016.00000   2017.00000  2018.000000   \n",
      "2          NaN          NaN          NaN          NaN          NaN   \n",
      "3     6.878155     6.582154      6.29725      8.00565     4.689806   \n",
      "\n",
      "   Unnamed: 63  Unnamed: 64  Unnamed: 65  Unnamed: 66  Unnamed: 67  \n",
      "0          NaN          NaN          NaN          NaN          NaN  \n",
      "1  2019.000000  2020.000000  2021.000000  2022.000000  2023.000000  \n",
      "2          NaN          NaN          NaN          NaN          NaN  \n",
      "3     5.239638     5.405162     6.107936     7.659863     7.671396  \n",
      "\n",
      "[4 rows x 68 columns]\n"
     ]
    }
   ],
   "source": [
    "import  pandas as pd\n",
    "\n",
    "df = pd.read_excel('kenyan_data.xlsx')\n",
    "\n",
    "print(df)"
   ]
  }
 ],
 "metadata": {
  "kernelspec": {
   "display_name": "base",
   "language": "python",
   "name": "python3"
  },
  "language_info": {
   "codemirror_mode": {
    "name": "ipython",
    "version": 3
   },
   "file_extension": ".py",
   "mimetype": "text/x-python",
   "name": "python",
   "nbconvert_exporter": "python",
   "pygments_lexer": "ipython3",
   "version": "3.12.7"
  }
 },
 "nbformat": 4,
 "nbformat_minor": 2
}
